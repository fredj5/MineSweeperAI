{
 "cells": [
  {
   "cell_type": "markdown",
   "id": "12ca7ccc",
   "metadata": {},
   "source": [
    "# Minesweeper AI"
   ]
  },
  {
   "cell_type": "code",
   "execution_count": 1,
   "id": "ea4c38db",
   "metadata": {
    "scrolled": true
   },
   "outputs": [
    {
     "name": "stderr",
     "output_type": "stream",
     "text": [
      "/Users/freddiejones/miniconda3/envs/tensorflow/lib/python3.10/site-packages/jax/_src/lib/__init__.py:32: UserWarning: JAX on Mac ARM machines is experimental and minimally tested. Please see https://github.com/google/jax/issues/5501 in the event of problems.\n",
      "  warnings.warn(\"JAX on Mac ARM machines is experimental and minimally tested. \"\n"
     ]
    }
   ],
   "source": [
    "import math\n",
    "import numpy as np\n",
    "import copy\n",
    "import tensorflow as tf"
   ]
  },
  {
   "cell_type": "code",
   "execution_count": 2,
   "id": "cdc76c35",
   "metadata": {},
   "outputs": [],
   "source": [
    "class MineSweeper:\n",
    "    def __init__(self, height = 9, width = 9, mines = 9):\n",
    "        self.height = height\n",
    "        self.width = width\n",
    "        self.num_mines = mines\n",
    "        self.reset()\n",
    "        \n",
    "    def reset(self):\n",
    "        self.board = np.array([[' ' for i in range(self.width+2)] for j in range(self.height+2)])\n",
    "        self.done = False\n",
    "        self.reward = 0\n",
    "        self.moves = [i for i in range(self.height * self.width)]\n",
    "        self.mines = []\n",
    "    \n",
    "    # Find number of mines adjacent to current square\n",
    "    def find_mines(self, row, col):\n",
    "        \n",
    "        # Return -1 if we hit a mine\n",
    "        if row*self.width + col in self.mines:\n",
    "            return -1\n",
    "        \n",
    "        num_mines = 0\n",
    "        for r_offset in [-1, 0, 1]:\n",
    "            for c_offset in [-1, 0, 1]:\n",
    "                if (row + r_offset) * self.width + (col + c_offset) in self.mines:\n",
    "                    num_mines += 1\n",
    "        \n",
    "        return num_mines\n",
    "        \n",
    "    def step(self, move):\n",
    "        # Setup\n",
    "        if move not in self.moves:\n",
    "            print('Invalid move, picking a random move...')\n",
    "            move = self.sample()\n",
    "\n",
    "        self.moves.remove(move) # Remove move if already stepped\n",
    "        \n",
    "        # Make random mine positions after the first move\n",
    "        if len(self.moves) == self.height*self.width-1:\n",
    "            self.mines = np.random.choice(self.moves, self.num_mines, replace = False)\n",
    "    \n",
    "        row, col = move//self.width, move%self.width\n",
    "        num_mines = self.find_mines(row, col)\n",
    "        \n",
    "        if num_mines == -1:\n",
    "            self.board[row+1, col+1] = '*'\n",
    "            self.reward = 0\n",
    "            self.done = True\n",
    "            \n",
    "        # Recursive call opens adjacent cells if they are 0\n",
    "        else:\n",
    "            self.board[row+1, col+1] = str(num_mines)\n",
    "            # Check for 0s and fill in board\n",
    "            if num_mines == 0:\n",
    "                for r_offset in [-1, 0, 1]:\n",
    "                    for c_offset in [-1, 0, 1]:\n",
    "                        if (r_offset, c_offset) == (0, 0): continue\n",
    "                        if row+r_offset+1 in [0, self.height+1] or col+c_offset+1 in [0, self.width+1]: continue\n",
    "                        if (row+r_offset)*self.width + (col+c_offset) in self.moves:\n",
    "                            self.step((row+r_offset)*self.width + (col+c_offset))\n",
    "            \n",
    "            # Check whether the gameboard is solved\n",
    "            if len(self.moves) == self.num_mines:\n",
    "                self.reward = 1\n",
    "                self.done = True\n",
    "                \n",
    "        return\n",
    "            \n",
    "    def sample(self):\n",
    "        return np.random.choice(self.moves)\n",
    "    \n",
    "    # One hot enconding\n",
    "    def get_network_state(self):\n",
    "        miniboard = self.board[1:-1, 1:-1]\n",
    "        myboard = [np.array(miniboard == ' ', dtype = int)]\n",
    "        \n",
    "        for i in range(9):\n",
    "            myboard.append(np.array(miniboard==str(i), dtype = int))\n",
    "        return tf.convert_to_tensor(myboard)\n",
    "        \n",
    "\n",
    "        \n",
    "    def render(self):\n",
    "        for rows in self.board[1:-1]:\n",
    "            print('|'.join(rows))\n",
    "    \n",
    "    def render_with_mines(self):\n",
    "        self.mineboard = copy.deepcopy(self.board)\n",
    "        for mine in self.mines:\n",
    "            self.mineboard[mine//self.height + 1, mine % self.height + 1] = '*'\n",
    "        for rows in self.mineboard[1:-1]:\n",
    "            print('|'.join(rows))"
   ]
  },
  {
   "cell_type": "code",
   "execution_count": 3,
   "id": "efee775c",
   "metadata": {},
   "outputs": [],
   "source": [
    "env = MineSweeper(9, 9, 9)"
   ]
  },
  {
   "cell_type": "code",
   "execution_count": 4,
   "id": "1c2ada2e",
   "metadata": {},
   "outputs": [
    {
     "name": "stdout",
     "output_type": "stream",
     "text": [
      "Metal device set to: Apple M2\n"
     ]
    },
    {
     "data": {
      "text/plain": [
       "<tf.Tensor: shape=(10, 9, 9), dtype=int32, numpy=\n",
       "array([[[1, 1, 1, 1, 1, 1, 1, 1, 1],\n",
       "        [1, 1, 1, 1, 1, 1, 1, 1, 1],\n",
       "        [1, 1, 1, 1, 1, 1, 1, 1, 1],\n",
       "        [1, 1, 1, 1, 1, 1, 1, 1, 1],\n",
       "        [1, 1, 1, 1, 1, 1, 1, 1, 1],\n",
       "        [1, 1, 1, 1, 1, 1, 1, 1, 1],\n",
       "        [1, 1, 1, 1, 1, 1, 1, 1, 1],\n",
       "        [1, 1, 1, 1, 1, 1, 1, 1, 1],\n",
       "        [1, 1, 1, 1, 1, 1, 1, 1, 1]],\n",
       "\n",
       "       [[0, 0, 0, 0, 0, 0, 0, 0, 0],\n",
       "        [0, 0, 0, 0, 0, 0, 0, 0, 0],\n",
       "        [0, 0, 0, 0, 0, 0, 0, 0, 0],\n",
       "        [0, 0, 0, 0, 0, 0, 0, 0, 0],\n",
       "        [0, 0, 0, 0, 0, 0, 0, 0, 0],\n",
       "        [0, 0, 0, 0, 0, 0, 0, 0, 0],\n",
       "        [0, 0, 0, 0, 0, 0, 0, 0, 0],\n",
       "        [0, 0, 0, 0, 0, 0, 0, 0, 0],\n",
       "        [0, 0, 0, 0, 0, 0, 0, 0, 0]],\n",
       "\n",
       "       [[0, 0, 0, 0, 0, 0, 0, 0, 0],\n",
       "        [0, 0, 0, 0, 0, 0, 0, 0, 0],\n",
       "        [0, 0, 0, 0, 0, 0, 0, 0, 0],\n",
       "        [0, 0, 0, 0, 0, 0, 0, 0, 0],\n",
       "        [0, 0, 0, 0, 0, 0, 0, 0, 0],\n",
       "        [0, 0, 0, 0, 0, 0, 0, 0, 0],\n",
       "        [0, 0, 0, 0, 0, 0, 0, 0, 0],\n",
       "        [0, 0, 0, 0, 0, 0, 0, 0, 0],\n",
       "        [0, 0, 0, 0, 0, 0, 0, 0, 0]],\n",
       "\n",
       "       [[0, 0, 0, 0, 0, 0, 0, 0, 0],\n",
       "        [0, 0, 0, 0, 0, 0, 0, 0, 0],\n",
       "        [0, 0, 0, 0, 0, 0, 0, 0, 0],\n",
       "        [0, 0, 0, 0, 0, 0, 0, 0, 0],\n",
       "        [0, 0, 0, 0, 0, 0, 0, 0, 0],\n",
       "        [0, 0, 0, 0, 0, 0, 0, 0, 0],\n",
       "        [0, 0, 0, 0, 0, 0, 0, 0, 0],\n",
       "        [0, 0, 0, 0, 0, 0, 0, 0, 0],\n",
       "        [0, 0, 0, 0, 0, 0, 0, 0, 0]],\n",
       "\n",
       "       [[0, 0, 0, 0, 0, 0, 0, 0, 0],\n",
       "        [0, 0, 0, 0, 0, 0, 0, 0, 0],\n",
       "        [0, 0, 0, 0, 0, 0, 0, 0, 0],\n",
       "        [0, 0, 0, 0, 0, 0, 0, 0, 0],\n",
       "        [0, 0, 0, 0, 0, 0, 0, 0, 0],\n",
       "        [0, 0, 0, 0, 0, 0, 0, 0, 0],\n",
       "        [0, 0, 0, 0, 0, 0, 0, 0, 0],\n",
       "        [0, 0, 0, 0, 0, 0, 0, 0, 0],\n",
       "        [0, 0, 0, 0, 0, 0, 0, 0, 0]],\n",
       "\n",
       "       [[0, 0, 0, 0, 0, 0, 0, 0, 0],\n",
       "        [0, 0, 0, 0, 0, 0, 0, 0, 0],\n",
       "        [0, 0, 0, 0, 0, 0, 0, 0, 0],\n",
       "        [0, 0, 0, 0, 0, 0, 0, 0, 0],\n",
       "        [0, 0, 0, 0, 0, 0, 0, 0, 0],\n",
       "        [0, 0, 0, 0, 0, 0, 0, 0, 0],\n",
       "        [0, 0, 0, 0, 0, 0, 0, 0, 0],\n",
       "        [0, 0, 0, 0, 0, 0, 0, 0, 0],\n",
       "        [0, 0, 0, 0, 0, 0, 0, 0, 0]],\n",
       "\n",
       "       [[0, 0, 0, 0, 0, 0, 0, 0, 0],\n",
       "        [0, 0, 0, 0, 0, 0, 0, 0, 0],\n",
       "        [0, 0, 0, 0, 0, 0, 0, 0, 0],\n",
       "        [0, 0, 0, 0, 0, 0, 0, 0, 0],\n",
       "        [0, 0, 0, 0, 0, 0, 0, 0, 0],\n",
       "        [0, 0, 0, 0, 0, 0, 0, 0, 0],\n",
       "        [0, 0, 0, 0, 0, 0, 0, 0, 0],\n",
       "        [0, 0, 0, 0, 0, 0, 0, 0, 0],\n",
       "        [0, 0, 0, 0, 0, 0, 0, 0, 0]],\n",
       "\n",
       "       [[0, 0, 0, 0, 0, 0, 0, 0, 0],\n",
       "        [0, 0, 0, 0, 0, 0, 0, 0, 0],\n",
       "        [0, 0, 0, 0, 0, 0, 0, 0, 0],\n",
       "        [0, 0, 0, 0, 0, 0, 0, 0, 0],\n",
       "        [0, 0, 0, 0, 0, 0, 0, 0, 0],\n",
       "        [0, 0, 0, 0, 0, 0, 0, 0, 0],\n",
       "        [0, 0, 0, 0, 0, 0, 0, 0, 0],\n",
       "        [0, 0, 0, 0, 0, 0, 0, 0, 0],\n",
       "        [0, 0, 0, 0, 0, 0, 0, 0, 0]],\n",
       "\n",
       "       [[0, 0, 0, 0, 0, 0, 0, 0, 0],\n",
       "        [0, 0, 0, 0, 0, 0, 0, 0, 0],\n",
       "        [0, 0, 0, 0, 0, 0, 0, 0, 0],\n",
       "        [0, 0, 0, 0, 0, 0, 0, 0, 0],\n",
       "        [0, 0, 0, 0, 0, 0, 0, 0, 0],\n",
       "        [0, 0, 0, 0, 0, 0, 0, 0, 0],\n",
       "        [0, 0, 0, 0, 0, 0, 0, 0, 0],\n",
       "        [0, 0, 0, 0, 0, 0, 0, 0, 0],\n",
       "        [0, 0, 0, 0, 0, 0, 0, 0, 0]],\n",
       "\n",
       "       [[0, 0, 0, 0, 0, 0, 0, 0, 0],\n",
       "        [0, 0, 0, 0, 0, 0, 0, 0, 0],\n",
       "        [0, 0, 0, 0, 0, 0, 0, 0, 0],\n",
       "        [0, 0, 0, 0, 0, 0, 0, 0, 0],\n",
       "        [0, 0, 0, 0, 0, 0, 0, 0, 0],\n",
       "        [0, 0, 0, 0, 0, 0, 0, 0, 0],\n",
       "        [0, 0, 0, 0, 0, 0, 0, 0, 0],\n",
       "        [0, 0, 0, 0, 0, 0, 0, 0, 0],\n",
       "        [0, 0, 0, 0, 0, 0, 0, 0, 0]]], dtype=int32)>"
      ]
     },
     "execution_count": 4,
     "metadata": {},
     "output_type": "execute_result"
    }
   ],
   "source": [
    "env.get_network_state()"
   ]
  },
  {
   "cell_type": "code",
   "execution_count": 5,
   "id": "19e2dafe",
   "metadata": {},
   "outputs": [],
   "source": [
    "# Randomly choose from available moves/squares\n",
    "def RandomAgent(state, moves):\n",
    "    return np.random.choice(moves)"
   ]
  },
  {
   "cell_type": "code",
   "execution_count": 11,
   "id": "6aa65063",
   "metadata": {},
   "outputs": [
    {
     "data": {
      "text/plain": [
       "<tf.Tensor: shape=(1, 81), dtype=float32, numpy=\n",
       "array([[0.01263031, 0.01273597, 0.01357459, 0.01250613, 0.01196085,\n",
       "        0.01193194, 0.01281563, 0.01321252, 0.01230667, 0.01216088,\n",
       "        0.01352779, 0.01244297, 0.01246126, 0.01340252, 0.0121316 ,\n",
       "        0.0131472 , 0.01241942, 0.01203362, 0.01196798, 0.01243432,\n",
       "        0.01256222, 0.01225402, 0.01249026, 0.01129467, 0.01247313,\n",
       "        0.01280869, 0.01139038, 0.01293176, 0.01217573, 0.01202166,\n",
       "        0.01132068, 0.01231079, 0.01243375, 0.01276378, 0.01272475,\n",
       "        0.01193036, 0.01112977, 0.01163646, 0.012295  , 0.01271566,\n",
       "        0.01209599, 0.01225223, 0.0127981 , 0.01223605, 0.01239357,\n",
       "        0.0126732 , 0.01251283, 0.01312136, 0.01236694, 0.01246249,\n",
       "        0.01158658, 0.01278333, 0.01250359, 0.01273395, 0.01300522,\n",
       "        0.01263874, 0.01353951, 0.01147776, 0.0118647 , 0.01185411,\n",
       "        0.01224627, 0.01195361, 0.0123708 , 0.01202848, 0.0126832 ,\n",
       "        0.01193082, 0.01210242, 0.01241682, 0.01206955, 0.01232726,\n",
       "        0.01225214, 0.01194969, 0.01297884, 0.01299334, 0.01253222,\n",
       "        0.01105074, 0.0119463 , 0.01182108, 0.01154911, 0.01174195,\n",
       "        0.01268748]], dtype=float32)>"
      ]
     },
     "execution_count": 11,
     "metadata": {},
     "output_type": "execute_result"
    }
   ],
   "source": []
  },
  {
   "cell_type": "code",
   "execution_count": 12,
   "id": "cac1e4e3",
   "metadata": {},
   "outputs": [
    {
     "ename": "SyntaxError",
     "evalue": "'[' was never closed (984623720.py, line 2)",
     "output_type": "error",
     "traceback": [
      "\u001b[0;36m  Cell \u001b[0;32mIn[12], line 2\u001b[0;36m\u001b[0m\n\u001b[0;31m    logits = nn_model([tf.newaxis, state.flatten()\u001b[0m\n\u001b[0m                      ^\u001b[0m\n\u001b[0;31mSyntaxError\u001b[0m\u001b[0;31m:\u001b[0m '[' was never closed\n"
     ]
    }
   ],
   "source": [
    "def neural_network(state, moves):\n",
    "    logits = nn_model(tf.reshape(env.get_network_state(), (1, 10, 9, 9))).numpy().flatten()\n",
    "    logits[moves] = -1\n",
    "    return tf.argmax(logits)"
   ]
  },
  {
   "cell_type": "code",
   "execution_count": 13,
   "id": "ad4266c0",
   "metadata": {},
   "outputs": [],
   "source": [
    "def play(env, agent = RandomAgent, episodes=100, verbose = False):\n",
    "    total_reward = 0\n",
    "    for game in range(episodes):\n",
    "        env.reset()\n",
    "        while not env.done:\n",
    "            move = agent(env.get_network_state(), env.moves)\n",
    "            env.step(move)\n",
    "            \n",
    "            if verbose:\n",
    "                print('Move: ', move//9, move%9)\n",
    "                env.render()\n",
    "                print()\n",
    "        \n",
    "        total_reward += env.reward\n",
    "\n",
    "    print(f'Number of wins in {episodes} games: {total_reward}')"
   ]
  },
  {
   "cell_type": "code",
   "execution_count": 14,
   "id": "39a7285c",
   "metadata": {},
   "outputs": [
    {
     "name": "stdout",
     "output_type": "stream",
     "text": [
      "Number of wins in 100 games: 0\n"
     ]
    }
   ],
   "source": [
    "play(env = MineSweeper(9, 9, 9), agent = RandomAgent, episodes = 100)"
   ]
  },
  {
   "cell_type": "markdown",
   "id": "1574861b",
   "metadata": {},
   "source": [
    "# Neural Network Approach to Solving Minesweeper\n",
    "\n",
    "Input: Tensor state of the minesweeper board\n",
    "\n",
    "Output: Probabilities of what cells to choose/expand\n",
    "\n",
    "Loss: Crossentropy loss"
   ]
  },
  {
   "cell_type": "code",
   "execution_count": 15,
   "id": "4b618fbb",
   "metadata": {},
   "outputs": [],
   "source": [
    "from tensorflow import keras\n",
    "from tensorflow.keras import layers"
   ]
  },
  {
   "cell_type": "code",
   "execution_count": 16,
   "id": "6a67b578",
   "metadata": {},
   "outputs": [],
   "source": [
    "MINES = 9\n",
    "HEIGHT = 9\n",
    "WIDTH = 9"
   ]
  },
  {
   "cell_type": "code",
   "execution_count": 17,
   "id": "afc7001c",
   "metadata": {},
   "outputs": [],
   "source": [
    "env = MineSweeper(HEIGHT, WIDTH, MINES)\n",
    "nn_model = keras.Sequential(\n",
    "    [\n",
    "        keras.Input(shape=(10, HEIGHT, WIDTH)),\n",
    "        layers.Conv2D(32, kernel_size=(3, 3), activation=\"relu\"),\n",
    "        layers.Conv2D(64, kernel_size=(3, 3), activation=\"relu\"),\n",
    "        layers.Flatten(),\n",
    "        layers.Dense(HEIGHT*WIDTH, activation=\"softmax\"),\n",
    "    ]\n",
    ")"
   ]
  },
  {
   "cell_type": "code",
   "execution_count": 18,
   "id": "14950e69",
   "metadata": {},
   "outputs": [
    {
     "name": "stdout",
     "output_type": "stream",
     "text": [
      "Model: \"sequential_1\"\n",
      "_________________________________________________________________\n",
      " Layer (type)                Output Shape              Param #   \n",
      "=================================================================\n",
      " conv2d_2 (Conv2D)           (None, 8, 7, 32)          2624      \n",
      "                                                                 \n",
      " conv2d_3 (Conv2D)           (None, 6, 5, 64)          18496     \n",
      "                                                                 \n",
      " flatten_1 (Flatten)         (None, 1920)              0         \n",
      "                                                                 \n",
      " dense_1 (Dense)             (None, 81)                155601    \n",
      "                                                                 \n",
      "=================================================================\n",
      "Total params: 176721 (690.32 KB)\n",
      "Trainable params: 176721 (690.32 KB)\n",
      "Non-trainable params: 0 (0.00 Byte)\n",
      "_________________________________________________________________\n"
     ]
    }
   ],
   "source": [
    "nn_model.summary()"
   ]
  },
  {
   "cell_type": "code",
   "execution_count": 19,
   "id": "3bc7b7b2",
   "metadata": {},
   "outputs": [],
   "source": [
    "# Acquire training data for network\n",
    "def get_samples(model, samples = 100):\n",
    "    x, y = [], []\n",
    "    env = MineSweeper(HEIGHT, WIDTH, MINES)\n",
    "    for game in range(samples):\n",
    "        env.reset()\n",
    "        while not env.done:\n",
    "            current_state = env.get_network_state()\n",
    "            move = RandomAgent(current_state, env.moves)\n",
    "            env.step(move)\n",
    "            # Exclude samples that fail\n",
    "            if env.done and env.reward == 0:\n",
    "                continue\n",
    "            else:\n",
    "                x.append(current_state)\n",
    "                y.append([i if i == move else 0 for i in range(HEIGHT*WIDTH)])\n",
    "            \n",
    "    return tf.convert_to_tensor(x), tf.convert_to_tensor(y)"
   ]
  },
  {
   "cell_type": "code",
   "execution_count": 20,
   "id": "9fe4b79d",
   "metadata": {},
   "outputs": [],
   "source": [
    "x_train, y_train = get_samples(nn_model, samples = 100)"
   ]
  },
  {
   "cell_type": "code",
   "execution_count": 21,
   "id": "8d1f44e4",
   "metadata": {},
   "outputs": [
    {
     "data": {
      "text/plain": [
       "(TensorShape([412, 10, 9, 9]), TensorShape([412, 81]))"
      ]
     },
     "execution_count": 21,
     "metadata": {},
     "output_type": "execute_result"
    }
   ],
   "source": [
    "x_train.shape, y_train.shape"
   ]
  },
  {
   "cell_type": "code",
   "execution_count": 22,
   "id": "e911b5c2",
   "metadata": {},
   "outputs": [
    {
     "name": "stdout",
     "output_type": "stream",
     "text": [
      "Epoch 1/100\n",
      "24/24 [==============================] - 1s 26ms/step - loss: 176.9927 - accuracy: 0.0108 - val_loss: 203.6018 - val_accuracy: 0.0476\n",
      "Epoch 2/100\n",
      "24/24 [==============================] - 0s 11ms/step - loss: 173.5071 - accuracy: 0.0405 - val_loss: 221.8479 - val_accuracy: 0.0000e+00\n",
      "Epoch 3/100\n",
      "24/24 [==============================] - 0s 9ms/step - loss: 310.0324 - accuracy: 0.0243 - val_loss: 899.2063 - val_accuracy: 0.0000e+00\n",
      "Epoch 4/100\n",
      "24/24 [==============================] - 0s 9ms/step - loss: 1346.5457 - accuracy: 0.0135 - val_loss: 4148.9570 - val_accuracy: 0.0000e+00\n",
      "Epoch 5/100\n",
      "24/24 [==============================] - 0s 9ms/step - loss: 5133.0566 - accuracy: 0.0189 - val_loss: 13410.3066 - val_accuracy: 0.0000e+00\n",
      "Epoch 6/100\n",
      "24/24 [==============================] - 0s 9ms/step - loss: 12983.6240 - accuracy: 0.0162 - val_loss: 32518.2891 - val_accuracy: 0.0000e+00\n",
      "Epoch 7/100\n",
      "24/24 [==============================] - 0s 9ms/step - loss: 28095.9141 - accuracy: 0.0216 - val_loss: 68356.5000 - val_accuracy: 0.0000e+00\n",
      "Epoch 8/100\n",
      "24/24 [==============================] - 0s 9ms/step - loss: 49577.1406 - accuracy: 0.0162 - val_loss: 117056.5000 - val_accuracy: 0.0000e+00\n",
      "Epoch 9/100\n",
      "24/24 [==============================] - 0s 9ms/step - loss: 89608.5859 - accuracy: 0.0216 - val_loss: 201755.2344 - val_accuracy: 0.0000e+00\n",
      "Epoch 10/100\n",
      "24/24 [==============================] - 0s 9ms/step - loss: 135284.0469 - accuracy: 0.0270 - val_loss: 296454.2812 - val_accuracy: 0.0000e+00\n",
      "Epoch 11/100\n",
      "24/24 [==============================] - 0s 10ms/step - loss: 182515.3125 - accuracy: 0.0135 - val_loss: 396692.3438 - val_accuracy: 0.0000e+00\n",
      "Epoch 12/100\n",
      "24/24 [==============================] - 0s 9ms/step - loss: 249227.1094 - accuracy: 0.0216 - val_loss: 557058.6250 - val_accuracy: 0.0000e+00\n",
      "Epoch 13/100\n",
      "24/24 [==============================] - 0s 9ms/step - loss: 334522.7188 - accuracy: 0.0216 - val_loss: 714113.8750 - val_accuracy: 0.0000e+00\n",
      "Epoch 14/100\n",
      "24/24 [==============================] - 0s 9ms/step - loss: 446058.5000 - accuracy: 0.0270 - val_loss: 909922.6875 - val_accuracy: 0.0000e+00\n",
      "Epoch 15/100\n",
      "24/24 [==============================] - 0s 9ms/step - loss: 577166.8750 - accuracy: 0.0216 - val_loss: 1139531.0000 - val_accuracy: 0.0000e+00\n",
      "Epoch 16/100\n",
      "24/24 [==============================] - 0s 9ms/step - loss: 678054.2500 - accuracy: 0.0108 - val_loss: 1353511.5000 - val_accuracy: 0.0000e+00\n",
      "Epoch 17/100\n",
      "24/24 [==============================] - 0s 9ms/step - loss: 857498.8125 - accuracy: 0.0135 - val_loss: 1670825.1250 - val_accuracy: 0.0000e+00\n",
      "Epoch 18/100\n",
      "24/24 [==============================] - 0s 9ms/step - loss: 1058760.2500 - accuracy: 0.0270 - val_loss: 1978701.1250 - val_accuracy: 0.0000e+00\n",
      "Epoch 19/100\n",
      "24/24 [==============================] - 0s 9ms/step - loss: 1231501.0000 - accuracy: 0.0189 - val_loss: 2299675.5000 - val_accuracy: 0.0000e+00\n",
      "Epoch 20/100\n",
      "24/24 [==============================] - 0s 9ms/step - loss: 1407541.2500 - accuracy: 0.0162 - val_loss: 2618737.5000 - val_accuracy: 0.0000e+00\n",
      "Epoch 21/100\n",
      "24/24 [==============================] - 0s 9ms/step - loss: 1714849.2500 - accuracy: 0.0243 - val_loss: 3112315.5000 - val_accuracy: 0.0000e+00\n",
      "Epoch 22/100\n",
      "24/24 [==============================] - 0s 9ms/step - loss: 1915653.7500 - accuracy: 0.0243 - val_loss: 3507035.5000 - val_accuracy: 0.0000e+00\n",
      "Epoch 23/100\n",
      "24/24 [==============================] - 0s 9ms/step - loss: 2197752.5000 - accuracy: 0.0216 - val_loss: 4012738.2500 - val_accuracy: 0.0238\n",
      "Epoch 24/100\n",
      "24/24 [==============================] - 0s 10ms/step - loss: 2510416.0000 - accuracy: 0.0216 - val_loss: 4605823.0000 - val_accuracy: 0.0000e+00\n",
      "Epoch 25/100\n",
      "24/24 [==============================] - 0s 9ms/step - loss: 2892777.2500 - accuracy: 0.0135 - val_loss: 5318493.5000 - val_accuracy: 0.0000e+00\n",
      "Epoch 26/100\n",
      "24/24 [==============================] - 0s 9ms/step - loss: 3307765.2500 - accuracy: 0.0270 - val_loss: 5993721.0000 - val_accuracy: 0.0000e+00\n",
      "Epoch 27/100\n",
      "24/24 [==============================] - 0s 9ms/step - loss: 3701192.7500 - accuracy: 0.0189 - val_loss: 6680891.5000 - val_accuracy: 0.0000e+00\n",
      "Epoch 28/100\n",
      "24/24 [==============================] - 0s 9ms/step - loss: 4152322.7500 - accuracy: 0.0243 - val_loss: 7450765.5000 - val_accuracy: 0.0000e+00\n",
      "Epoch 29/100\n",
      "24/24 [==============================] - 0s 9ms/step - loss: 4656634.0000 - accuracy: 0.0162 - val_loss: 8383891.0000 - val_accuracy: 0.0000e+00\n",
      "Epoch 30/100\n",
      "24/24 [==============================] - 0s 9ms/step - loss: 5293907.5000 - accuracy: 0.0243 - val_loss: 9274396.0000 - val_accuracy: 0.0000e+00\n",
      "Epoch 31/100\n",
      "24/24 [==============================] - 0s 9ms/step - loss: 5866466.0000 - accuracy: 0.0243 - val_loss: 10276976.0000 - val_accuracy: 0.0000e+00\n",
      "Epoch 32/100\n",
      "24/24 [==============================] - 0s 9ms/step - loss: 6468665.5000 - accuracy: 0.0351 - val_loss: 11372434.0000 - val_accuracy: 0.0238\n",
      "Epoch 33/100\n",
      "24/24 [==============================] - 0s 9ms/step - loss: 7165850.5000 - accuracy: 0.0270 - val_loss: 12409125.0000 - val_accuracy: 0.0238\n",
      "Epoch 34/100\n",
      "24/24 [==============================] - 0s 9ms/step - loss: 7766198.5000 - accuracy: 0.0270 - val_loss: 13399308.0000 - val_accuracy: 0.0000e+00\n",
      "Epoch 35/100\n",
      "24/24 [==============================] - 0s 9ms/step - loss: 8537272.0000 - accuracy: 0.0324 - val_loss: 14639933.0000 - val_accuracy: 0.0000e+00\n",
      "Epoch 36/100\n",
      "24/24 [==============================] - 0s 9ms/step - loss: 9304052.0000 - accuracy: 0.0351 - val_loss: 15688425.0000 - val_accuracy: 0.0238\n",
      "Epoch 37/100\n",
      "24/24 [==============================] - 0s 9ms/step - loss: 10001625.0000 - accuracy: 0.0162 - val_loss: 16793476.0000 - val_accuracy: 0.0000e+00\n",
      "Epoch 38/100\n",
      "24/24 [==============================] - 0s 9ms/step - loss: 10700305.0000 - accuracy: 0.0270 - val_loss: 18047196.0000 - val_accuracy: 0.0000e+00\n",
      "Epoch 39/100\n",
      "24/24 [==============================] - 0s 9ms/step - loss: 12122820.0000 - accuracy: 0.0189 - val_loss: 19923150.0000 - val_accuracy: 0.0476\n",
      "Epoch 40/100\n",
      "24/24 [==============================] - 0s 9ms/step - loss: 12386887.0000 - accuracy: 0.0189 - val_loss: 21175360.0000 - val_accuracy: 0.0000e+00\n",
      "Epoch 41/100\n",
      "24/24 [==============================] - 0s 9ms/step - loss: 13347847.0000 - accuracy: 0.0243 - val_loss: 23109258.0000 - val_accuracy: 0.0000e+00\n",
      "Epoch 42/100\n",
      "24/24 [==============================] - 0s 9ms/step - loss: 14457023.0000 - accuracy: 0.0324 - val_loss: 25114238.0000 - val_accuracy: 0.0000e+00\n",
      "Epoch 43/100\n",
      "24/24 [==============================] - 0s 9ms/step - loss: 15416941.0000 - accuracy: 0.0351 - val_loss: 27168260.0000 - val_accuracy: 0.0000e+00\n",
      "Epoch 44/100\n",
      "24/24 [==============================] - 0s 9ms/step - loss: 16455384.0000 - accuracy: 0.0270 - val_loss: 28794898.0000 - val_accuracy: 0.0000e+00\n",
      "Epoch 45/100\n",
      "24/24 [==============================] - 0s 9ms/step - loss: 17744092.0000 - accuracy: 0.0270 - val_loss: 31193722.0000 - val_accuracy: 0.0238\n",
      "Epoch 46/100\n",
      "24/24 [==============================] - 0s 9ms/step - loss: 18651668.0000 - accuracy: 0.0243 - val_loss: 32860282.0000 - val_accuracy: 0.0000e+00\n",
      "Epoch 47/100\n",
      "24/24 [==============================] - 0s 9ms/step - loss: 19720154.0000 - accuracy: 0.0135 - val_loss: 34980132.0000 - val_accuracy: 0.0000e+00\n",
      "Epoch 48/100\n",
      "24/24 [==============================] - 0s 9ms/step - loss: 21731586.0000 - accuracy: 0.0324 - val_loss: 38803744.0000 - val_accuracy: 0.0238\n",
      "Epoch 49/100\n",
      "24/24 [==============================] - 0s 9ms/step - loss: 22874450.0000 - accuracy: 0.0351 - val_loss: 40296340.0000 - val_accuracy: 0.0238\n",
      "Epoch 50/100\n",
      "24/24 [==============================] - 0s 10ms/step - loss: 24170354.0000 - accuracy: 0.0270 - val_loss: 42520356.0000 - val_accuracy: 0.0000e+00\n",
      "Epoch 51/100\n",
      "24/24 [==============================] - 0s 9ms/step - loss: 25439010.0000 - accuracy: 0.0216 - val_loss: 44422540.0000 - val_accuracy: 0.0000e+00\n",
      "Epoch 52/100\n",
      "24/24 [==============================] - 0s 9ms/step - loss: 25932114.0000 - accuracy: 0.0324 - val_loss: 45767832.0000 - val_accuracy: 0.0000e+00\n",
      "Epoch 53/100\n"
     ]
    },
    {
     "name": "stdout",
     "output_type": "stream",
     "text": [
      "24/24 [==============================] - 0s 9ms/step - loss: 27039490.0000 - accuracy: 0.0270 - val_loss: 47906828.0000 - val_accuracy: 0.0000e+00\n",
      "Epoch 54/100\n",
      "24/24 [==============================] - 0s 9ms/step - loss: 28285900.0000 - accuracy: 0.0270 - val_loss: 50095636.0000 - val_accuracy: 0.0000e+00\n",
      "Epoch 55/100\n",
      "24/24 [==============================] - 0s 9ms/step - loss: 29326738.0000 - accuracy: 0.0243 - val_loss: 52225976.0000 - val_accuracy: 0.0000e+00\n",
      "Epoch 56/100\n",
      "24/24 [==============================] - 0s 9ms/step - loss: 30583846.0000 - accuracy: 0.0351 - val_loss: 54454320.0000 - val_accuracy: 0.0000e+00\n",
      "Epoch 57/100\n",
      "24/24 [==============================] - 0s 9ms/step - loss: 32327732.0000 - accuracy: 0.0351 - val_loss: 57354568.0000 - val_accuracy: 0.0000e+00\n",
      "Epoch 58/100\n",
      "24/24 [==============================] - 0s 9ms/step - loss: 33328538.0000 - accuracy: 0.0189 - val_loss: 58909500.0000 - val_accuracy: 0.0000e+00\n",
      "Epoch 59/100\n",
      "24/24 [==============================] - 0s 9ms/step - loss: 35255864.0000 - accuracy: 0.0189 - val_loss: 62540820.0000 - val_accuracy: 0.0000e+00\n",
      "Epoch 60/100\n",
      "24/24 [==============================] - 0s 9ms/step - loss: 36374312.0000 - accuracy: 0.0189 - val_loss: 64397432.0000 - val_accuracy: 0.0000e+00\n",
      "Epoch 61/100\n",
      "24/24 [==============================] - 0s 9ms/step - loss: 37740592.0000 - accuracy: 0.0216 - val_loss: 66945560.0000 - val_accuracy: 0.0000e+00\n",
      "Epoch 62/100\n",
      "24/24 [==============================] - 0s 9ms/step - loss: 39737968.0000 - accuracy: 0.0297 - val_loss: 70040512.0000 - val_accuracy: 0.0000e+00\n",
      "Epoch 63/100\n",
      "24/24 [==============================] - 0s 9ms/step - loss: 41549828.0000 - accuracy: 0.0297 - val_loss: 73648176.0000 - val_accuracy: 0.0238\n",
      "Epoch 64/100\n",
      "24/24 [==============================] - 0s 9ms/step - loss: 43479188.0000 - accuracy: 0.0189 - val_loss: 76859760.0000 - val_accuracy: 0.0000e+00\n",
      "Epoch 65/100\n",
      "24/24 [==============================] - 0s 9ms/step - loss: 44459224.0000 - accuracy: 0.0108 - val_loss: 79057992.0000 - val_accuracy: 0.0000e+00\n",
      "Epoch 66/100\n",
      "24/24 [==============================] - 0s 9ms/step - loss: 46652404.0000 - accuracy: 0.0216 - val_loss: 82675392.0000 - val_accuracy: 0.0000e+00\n",
      "Epoch 67/100\n",
      "24/24 [==============================] - 0s 9ms/step - loss: 47857496.0000 - accuracy: 0.0270 - val_loss: 85133448.0000 - val_accuracy: 0.0000e+00\n",
      "Epoch 68/100\n",
      "24/24 [==============================] - 0s 9ms/step - loss: 49358420.0000 - accuracy: 0.0324 - val_loss: 88442616.0000 - val_accuracy: 0.0000e+00\n",
      "Epoch 69/100\n",
      "24/24 [==============================] - 0s 9ms/step - loss: 50971184.0000 - accuracy: 0.0324 - val_loss: 91210512.0000 - val_accuracy: 0.0000e+00\n",
      "Epoch 70/100\n",
      "24/24 [==============================] - 0s 9ms/step - loss: 53233936.0000 - accuracy: 0.0270 - val_loss: 94712360.0000 - val_accuracy: 0.0000e+00\n",
      "Epoch 71/100\n",
      "24/24 [==============================] - 0s 9ms/step - loss: 55377556.0000 - accuracy: 0.0243 - val_loss: 99042904.0000 - val_accuracy: 0.0000e+00\n",
      "Epoch 72/100\n",
      "24/24 [==============================] - 0s 9ms/step - loss: 57821068.0000 - accuracy: 0.0378 - val_loss: 103225392.0000 - val_accuracy: 0.0000e+00\n",
      "Epoch 73/100\n",
      "24/24 [==============================] - 0s 9ms/step - loss: 59877568.0000 - accuracy: 0.0324 - val_loss: 106486128.0000 - val_accuracy: 0.0000e+00\n",
      "Epoch 74/100\n",
      "24/24 [==============================] - 0s 10ms/step - loss: 61784876.0000 - accuracy: 0.0135 - val_loss: 110185192.0000 - val_accuracy: 0.0000e+00\n",
      "Epoch 75/100\n",
      "24/24 [==============================] - 0s 9ms/step - loss: 64209012.0000 - accuracy: 0.0270 - val_loss: 115519600.0000 - val_accuracy: 0.0000e+00\n",
      "Epoch 76/100\n",
      "24/24 [==============================] - 0s 9ms/step - loss: 67047480.0000 - accuracy: 0.0243 - val_loss: 119331496.0000 - val_accuracy: 0.0000e+00\n",
      "Epoch 77/100\n",
      "24/24 [==============================] - 0s 9ms/step - loss: 68883288.0000 - accuracy: 0.0324 - val_loss: 122981848.0000 - val_accuracy: 0.0000e+00\n",
      "Epoch 78/100\n",
      "24/24 [==============================] - 0s 9ms/step - loss: 71761264.0000 - accuracy: 0.0297 - val_loss: 128031048.0000 - val_accuracy: 0.0000e+00\n",
      "Epoch 79/100\n",
      "24/24 [==============================] - 0s 9ms/step - loss: 74068328.0000 - accuracy: 0.0297 - val_loss: 132311160.0000 - val_accuracy: 0.0000e+00\n",
      "Epoch 80/100\n",
      "24/24 [==============================] - 0s 9ms/step - loss: 76169696.0000 - accuracy: 0.0189 - val_loss: 135144016.0000 - val_accuracy: 0.0000e+00\n",
      "Epoch 81/100\n",
      "24/24 [==============================] - 0s 9ms/step - loss: 78213760.0000 - accuracy: 0.0324 - val_loss: 140935024.0000 - val_accuracy: 0.0000e+00\n",
      "Epoch 82/100\n",
      "24/24 [==============================] - 0s 9ms/step - loss: 80456896.0000 - accuracy: 0.0324 - val_loss: 144132368.0000 - val_accuracy: 0.0000e+00\n",
      "Epoch 83/100\n",
      "24/24 [==============================] - 0s 9ms/step - loss: 82633992.0000 - accuracy: 0.0216 - val_loss: 149327584.0000 - val_accuracy: 0.0000e+00\n",
      "Epoch 84/100\n",
      "24/24 [==============================] - 0s 9ms/step - loss: 85510936.0000 - accuracy: 0.0270 - val_loss: 154163552.0000 - val_accuracy: 0.0000e+00\n",
      "Epoch 85/100\n",
      "24/24 [==============================] - 0s 9ms/step - loss: 89147776.0000 - accuracy: 0.0216 - val_loss: 160618864.0000 - val_accuracy: 0.0000e+00\n",
      "Epoch 86/100\n",
      "24/24 [==============================] - 0s 9ms/step - loss: 91629872.0000 - accuracy: 0.0216 - val_loss: 164209008.0000 - val_accuracy: 0.0000e+00\n",
      "Epoch 87/100\n",
      "24/24 [==============================] - 0s 9ms/step - loss: 94308320.0000 - accuracy: 0.0189 - val_loss: 169507280.0000 - val_accuracy: 0.0000e+00\n",
      "Epoch 88/100\n",
      "24/24 [==============================] - 0s 10ms/step - loss: 96346088.0000 - accuracy: 0.0216 - val_loss: 173945360.0000 - val_accuracy: 0.0000e+00\n",
      "Epoch 89/100\n",
      "24/24 [==============================] - 0s 9ms/step - loss: 101003496.0000 - accuracy: 0.0243 - val_loss: 181711952.0000 - val_accuracy: 0.0000e+00\n",
      "Epoch 90/100\n",
      "24/24 [==============================] - 0s 9ms/step - loss: 103217664.0000 - accuracy: 0.0216 - val_loss: 185878352.0000 - val_accuracy: 0.0000e+00\n",
      "Epoch 91/100\n",
      "24/24 [==============================] - 0s 9ms/step - loss: 105856104.0000 - accuracy: 0.0216 - val_loss: 190458832.0000 - val_accuracy: 0.0000e+00\n",
      "Epoch 92/100\n",
      "24/24 [==============================] - 0s 9ms/step - loss: 108364528.0000 - accuracy: 0.0324 - val_loss: 195935104.0000 - val_accuracy: 0.0000e+00\n",
      "Epoch 93/100\n",
      "24/24 [==============================] - 0s 9ms/step - loss: 111457152.0000 - accuracy: 0.0270 - val_loss: 201065296.0000 - val_accuracy: 0.0000e+00\n",
      "Epoch 94/100\n",
      "24/24 [==============================] - 0s 9ms/step - loss: 114809376.0000 - accuracy: 0.0189 - val_loss: 206725296.0000 - val_accuracy: 0.0000e+00\n",
      "Epoch 95/100\n",
      "24/24 [==============================] - 0s 9ms/step - loss: 117930368.0000 - accuracy: 0.0405 - val_loss: 212508624.0000 - val_accuracy: 0.0000e+00\n",
      "Epoch 96/100\n",
      "24/24 [==============================] - 0s 9ms/step - loss: 120537208.0000 - accuracy: 0.0270 - val_loss: 217765744.0000 - val_accuracy: 0.0000e+00\n",
      "Epoch 97/100\n",
      "24/24 [==============================] - 0s 9ms/step - loss: 122732160.0000 - accuracy: 0.0243 - val_loss: 222643472.0000 - val_accuracy: 0.0000e+00\n",
      "Epoch 98/100\n",
      "24/24 [==============================] - 0s 9ms/step - loss: 125520656.0000 - accuracy: 0.0297 - val_loss: 227898320.0000 - val_accuracy: 0.0000e+00\n",
      "Epoch 99/100\n",
      "24/24 [==============================] - 0s 9ms/step - loss: 128298720.0000 - accuracy: 0.0378 - val_loss: 233482240.0000 - val_accuracy: 0.0238\n",
      "Epoch 100/100\n",
      "24/24 [==============================] - 0s 9ms/step - loss: 132093296.0000 - accuracy: 0.0297 - val_loss: 239542608.0000 - val_accuracy: 0.0000e+00\n"
     ]
    },
    {
     "data": {
      "text/plain": [
       "<keras.src.callbacks.History at 0x17ef39b70>"
      ]
     },
     "execution_count": 22,
     "metadata": {},
     "output_type": "execute_result"
    }
   ],
   "source": [
    "# Compile and fit model\n",
    "nn_model.compile(loss=\"categorical_crossentropy\", optimizer=\"adam\", metrics=[\"accuracy\"])\n",
    "nn_model.fit(x_train, y_train, batch_size=16, epochs=100, validation_split=0.1)"
   ]
  },
  {
   "cell_type": "code",
   "execution_count": 24,
   "id": "6afb4262",
   "metadata": {},
   "outputs": [
    {
     "ename": "ValueError",
     "evalue": "Input 0 of layer \"sequential_1\" is incompatible with the layer: expected shape=(None, 10, 9, 9), found shape=(10, 9, 9)",
     "output_type": "error",
     "traceback": [
      "\u001b[0;31m---------------------------------------------------------------------------\u001b[0m",
      "\u001b[0;31mValueError\u001b[0m                                Traceback (most recent call last)",
      "Cell \u001b[0;32mIn[24], line 1\u001b[0m\n\u001b[0;32m----> 1\u001b[0m \u001b[43mplay\u001b[49m\u001b[43m(\u001b[49m\u001b[43menv\u001b[49m\u001b[43m \u001b[49m\u001b[38;5;241;43m=\u001b[39;49m\u001b[43m \u001b[49m\u001b[43mMineSweeper\u001b[49m\u001b[43m(\u001b[49m\u001b[43mHEIGHT\u001b[49m\u001b[43m,\u001b[49m\u001b[43m \u001b[49m\u001b[43mWIDTH\u001b[49m\u001b[43m,\u001b[49m\u001b[43m \u001b[49m\u001b[43mMINES\u001b[49m\u001b[43m)\u001b[49m\u001b[43m,\u001b[49m\u001b[43m \u001b[49m\u001b[43magent\u001b[49m\u001b[43m \u001b[49m\u001b[38;5;241;43m=\u001b[39;49m\u001b[43m \u001b[49m\u001b[43mnn_model\u001b[49m\u001b[43m,\u001b[49m\u001b[43m \u001b[49m\u001b[43mepisodes\u001b[49m\u001b[43m \u001b[49m\u001b[38;5;241;43m=\u001b[39;49m\u001b[43m \u001b[49m\u001b[38;5;241;43m100\u001b[39;49m\u001b[43m)\u001b[49m\n",
      "Cell \u001b[0;32mIn[13], line 6\u001b[0m, in \u001b[0;36mplay\u001b[0;34m(env, agent, episodes, verbose)\u001b[0m\n\u001b[1;32m      4\u001b[0m env\u001b[38;5;241m.\u001b[39mreset()\n\u001b[1;32m      5\u001b[0m \u001b[38;5;28;01mwhile\u001b[39;00m \u001b[38;5;129;01mnot\u001b[39;00m env\u001b[38;5;241m.\u001b[39mdone:\n\u001b[0;32m----> 6\u001b[0m     move \u001b[38;5;241m=\u001b[39m \u001b[43magent\u001b[49m\u001b[43m(\u001b[49m\u001b[43menv\u001b[49m\u001b[38;5;241;43m.\u001b[39;49m\u001b[43mget_network_state\u001b[49m\u001b[43m(\u001b[49m\u001b[43m)\u001b[49m\u001b[43m,\u001b[49m\u001b[43m \u001b[49m\u001b[43menv\u001b[49m\u001b[38;5;241;43m.\u001b[39;49m\u001b[43mmoves\u001b[49m\u001b[43m)\u001b[49m\n\u001b[1;32m      7\u001b[0m     env\u001b[38;5;241m.\u001b[39mstep(move)\n\u001b[1;32m      9\u001b[0m     \u001b[38;5;28;01mif\u001b[39;00m verbose:\n",
      "File \u001b[0;32m~/miniconda3/envs/tensorflow/lib/python3.10/site-packages/keras/src/utils/traceback_utils.py:70\u001b[0m, in \u001b[0;36mfilter_traceback.<locals>.error_handler\u001b[0;34m(*args, **kwargs)\u001b[0m\n\u001b[1;32m     67\u001b[0m     filtered_tb \u001b[38;5;241m=\u001b[39m _process_traceback_frames(e\u001b[38;5;241m.\u001b[39m__traceback__)\n\u001b[1;32m     68\u001b[0m     \u001b[38;5;66;03m# To get the full stack trace, call:\u001b[39;00m\n\u001b[1;32m     69\u001b[0m     \u001b[38;5;66;03m# `tf.debugging.disable_traceback_filtering()`\u001b[39;00m\n\u001b[0;32m---> 70\u001b[0m     \u001b[38;5;28;01mraise\u001b[39;00m e\u001b[38;5;241m.\u001b[39mwith_traceback(filtered_tb) \u001b[38;5;28;01mfrom\u001b[39;00m \u001b[38;5;28mNone\u001b[39m\n\u001b[1;32m     71\u001b[0m \u001b[38;5;28;01mfinally\u001b[39;00m:\n\u001b[1;32m     72\u001b[0m     \u001b[38;5;28;01mdel\u001b[39;00m filtered_tb\n",
      "File \u001b[0;32m~/miniconda3/envs/tensorflow/lib/python3.10/site-packages/keras/src/engine/input_spec.py:298\u001b[0m, in \u001b[0;36massert_input_compatibility\u001b[0;34m(input_spec, inputs, layer_name)\u001b[0m\n\u001b[1;32m    296\u001b[0m \u001b[38;5;28;01mif\u001b[39;00m spec_dim \u001b[38;5;129;01mis\u001b[39;00m \u001b[38;5;129;01mnot\u001b[39;00m \u001b[38;5;28;01mNone\u001b[39;00m \u001b[38;5;129;01mand\u001b[39;00m dim \u001b[38;5;129;01mis\u001b[39;00m \u001b[38;5;129;01mnot\u001b[39;00m \u001b[38;5;28;01mNone\u001b[39;00m:\n\u001b[1;32m    297\u001b[0m     \u001b[38;5;28;01mif\u001b[39;00m spec_dim \u001b[38;5;241m!=\u001b[39m dim:\n\u001b[0;32m--> 298\u001b[0m         \u001b[38;5;28;01mraise\u001b[39;00m \u001b[38;5;167;01mValueError\u001b[39;00m(\n\u001b[1;32m    299\u001b[0m             \u001b[38;5;124mf\u001b[39m\u001b[38;5;124m'\u001b[39m\u001b[38;5;124mInput \u001b[39m\u001b[38;5;132;01m{\u001b[39;00minput_index\u001b[38;5;132;01m}\u001b[39;00m\u001b[38;5;124m of layer \u001b[39m\u001b[38;5;124m\"\u001b[39m\u001b[38;5;132;01m{\u001b[39;00mlayer_name\u001b[38;5;132;01m}\u001b[39;00m\u001b[38;5;124m\"\u001b[39m\u001b[38;5;124m is \u001b[39m\u001b[38;5;124m'\u001b[39m\n\u001b[1;32m    300\u001b[0m             \u001b[38;5;124m\"\u001b[39m\u001b[38;5;124mincompatible with the layer: \u001b[39m\u001b[38;5;124m\"\u001b[39m\n\u001b[1;32m    301\u001b[0m             \u001b[38;5;124mf\u001b[39m\u001b[38;5;124m\"\u001b[39m\u001b[38;5;124mexpected shape=\u001b[39m\u001b[38;5;132;01m{\u001b[39;00mspec\u001b[38;5;241m.\u001b[39mshape\u001b[38;5;132;01m}\u001b[39;00m\u001b[38;5;124m, \u001b[39m\u001b[38;5;124m\"\u001b[39m\n\u001b[1;32m    302\u001b[0m             \u001b[38;5;124mf\u001b[39m\u001b[38;5;124m\"\u001b[39m\u001b[38;5;124mfound shape=\u001b[39m\u001b[38;5;132;01m{\u001b[39;00mdisplay_shape(x\u001b[38;5;241m.\u001b[39mshape)\u001b[38;5;132;01m}\u001b[39;00m\u001b[38;5;124m\"\u001b[39m\n\u001b[1;32m    303\u001b[0m         )\n",
      "\u001b[0;31mValueError\u001b[0m: Input 0 of layer \"sequential_1\" is incompatible with the layer: expected shape=(None, 10, 9, 9), found shape=(10, 9, 9)"
     ]
    }
   ],
   "source": [
    "play(env = MineSweeper(HEIGHT, WIDTH, MINES), agent = nn_model, episodes = 100)"
   ]
  },
  {
   "cell_type": "code",
   "execution_count": null,
   "id": "70ce9d78",
   "metadata": {},
   "outputs": [],
   "source": []
  }
 ],
 "metadata": {
  "kernelspec": {
   "display_name": "Python 3 (ipykernel)",
   "language": "python",
   "name": "python3"
  },
  "language_info": {
   "codemirror_mode": {
    "name": "ipython",
    "version": 3
   },
   "file_extension": ".py",
   "mimetype": "text/x-python",
   "name": "python",
   "nbconvert_exporter": "python",
   "pygments_lexer": "ipython3",
   "version": "3.10.8"
  }
 },
 "nbformat": 4,
 "nbformat_minor": 5
}
