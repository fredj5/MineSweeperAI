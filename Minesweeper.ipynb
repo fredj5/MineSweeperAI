{
 "cells": [
  {
   "cell_type": "markdown",
   "id": "12ca7ccc",
   "metadata": {},
   "source": [
    "# Minesweeper AI"
   ]
  },
  {
   "cell_type": "code",
   "execution_count": 79,
   "id": "ea4c38db",
   "metadata": {
    "scrolled": true
   },
   "outputs": [],
   "source": [
    "import math\n",
    "import numpy as np\n",
    "import copy\n",
    "import tensorflow as tf"
   ]
  },
  {
   "cell_type": "code",
   "execution_count": 80,
   "id": "cdc76c35",
   "metadata": {},
   "outputs": [],
   "source": [
    "class MineSweeper:\n",
    "    def __init__(self, height = 9, width = 9, mines = 9):\n",
    "        self.height = height\n",
    "        self.width = width\n",
    "        self.num_mines = mines\n",
    "        self.reset()\n",
    "        \n",
    "    def reset(self):\n",
    "        self.board = np.array([[' ' for i in range(self.width+2)] for j in range(self.height+2)])\n",
    "        self.done = False\n",
    "        self.reward = 0\n",
    "        self.moves = [i for i in range(self.height * self.width)]\n",
    "        self.mines = []\n",
    "    \n",
    "    # Find number of mines adjacent to current square\n",
    "    def find_mines(self, row, col):\n",
    "        \n",
    "        # Return -1 if we hit a mine\n",
    "        if row*self.width + col in self.mines:\n",
    "            return -1\n",
    "        \n",
    "        num_mines = 0\n",
    "        for r_offset in [-1, 0, 1]:\n",
    "            for c_offset in [-1, 0, 1]:\n",
    "                if (row + r_offset) * self.width + (col + c_offset) in self.mines:\n",
    "                    num_mines += 1\n",
    "        \n",
    "        return num_mines\n",
    "        \n",
    "    def step(self, move):\n",
    "        # Setup\n",
    "        if move not in self.moves:\n",
    "            move = self.sample()\n",
    "\n",
    "        self.moves.remove(move) # Remove move if already stepped\n",
    "        \n",
    "        # Make random mine positions after the first move\n",
    "        if len(self.moves) == self.height*self.width-1:\n",
    "            self.mines = np.random.choice(self.moves, self.num_mines, replace = False)\n",
    "    \n",
    "        row, col = move//self.width, move%self.width\n",
    "        num_mines = self.find_mines(row, col)\n",
    "        \n",
    "        if num_mines == -1:\n",
    "            self.board[row+1, col+1] = '*'\n",
    "            self.reward = 0\n",
    "            self.done = True\n",
    "            \n",
    "        # Recursive call opens adjacent cells if they are 0\n",
    "        else:\n",
    "            self.board[row+1, col+1] = str(num_mines)\n",
    "            # Check for 0s and fill in board\n",
    "            if num_mines == 0:\n",
    "                for r_offset in [-1, 0, 1]:\n",
    "                    for c_offset in [-1, 0, 1]:\n",
    "                        if (r_offset, c_offset) == (0, 0): continue\n",
    "                        if row+r_offset+1 in [0, self.height+1] or col+c_offset+1 in [0, self.width+1]: continue\n",
    "                        if (row+r_offset)*self.width + (col+c_offset) in self.moves:\n",
    "                            self.step((row+r_offset)*self.width + (col+c_offset))\n",
    "            \n",
    "            # Check whether the gameboard is solved\n",
    "            if len(self.moves) == self.num_mines:\n",
    "                self.reward = 1\n",
    "                self.done = True\n",
    "                \n",
    "        return\n",
    "            \n",
    "    def sample(self):\n",
    "        return np.random.choice(self.moves)\n",
    "    \n",
    "    # One hot enconding\n",
    "    def get_network_state(self):\n",
    "        miniboard = self.board[1:-1, 1:-1]\n",
    "        myboard = [np.array(miniboard == ' ', dtype = int)]\n",
    "        \n",
    "        for i in range(9):\n",
    "            myboard.append(np.array(miniboard==str(i), dtype = int))\n",
    "        return tf.convert_to_tensor(myboard)\n",
    "        \n",
    "\n",
    "        \n",
    "    def render(self):\n",
    "        for rows in self.board[1:-1]:\n",
    "            print('|'.join(rows))\n",
    "    \n",
    "    def render_with_mines(self):\n",
    "        self.mineboard = copy.deepcopy(self.board)\n",
    "        for mine in self.mines:\n",
    "            self.mineboard[mine//self.height + 1, mine % self.height + 1] = '*'\n",
    "        for rows in self.mineboard[1:-1]:\n",
    "            print('|'.join(rows))"
   ]
  },
  {
   "cell_type": "code",
   "execution_count": 81,
   "id": "efee775c",
   "metadata": {},
   "outputs": [],
   "source": [
    "env = MineSweeper(9, 9, 9)"
   ]
  },
  {
   "cell_type": "code",
   "execution_count": 82,
   "id": "1c2ada2e",
   "metadata": {},
   "outputs": [
    {
     "name": "stdout",
     "output_type": "stream",
     "text": [
      " | | | | | | | | | | \n",
      " | | | | | | | | | | \n",
      " | | | | | | | | | | \n",
      " | | | | | | | | | | \n",
      " | | | | | | | | | | \n",
      " | | | | | | | | | | \n",
      " | | | | | | | | | | \n",
      " | | | | | | | | | | \n",
      " | | | | | | | | | | \n"
     ]
    }
   ],
   "source": [
    "env.render()"
   ]
  },
  {
   "cell_type": "code",
   "execution_count": 83,
   "id": "19e2dafe",
   "metadata": {},
   "outputs": [],
   "source": [
    "# Randomly choose from available moves/squares\n",
    "def RandomAgent(state, moves):\n",
    "    return np.random.choice(moves)"
   ]
  },
  {
   "cell_type": "code",
   "execution_count": 84,
   "id": "cac1e4e3",
   "metadata": {},
   "outputs": [],
   "source": [
    "def neural_network(state, moves):\n",
    "    probs = nn_model(tf.reshape(env.get_network_state(), (1, 9, 9, 10))).numpy().flatten()\n",
    "    probs[moves] += 1\n",
    "    return tf.argmax(probs)"
   ]
  },
  {
   "cell_type": "code",
   "execution_count": 85,
   "id": "ad4266c0",
   "metadata": {},
   "outputs": [],
   "source": [
    "def play(env, agent = RandomAgent, episodes=100, verbose = False):\n",
    "    total_reward = 0\n",
    "    for game in range(episodes):\n",
    "        env.reset()\n",
    "        while not env.done:\n",
    "            move = agent(env.get_network_state(), env.moves)\n",
    "            env.step(move)\n",
    "            \n",
    "            if verbose:\n",
    "                print('Move: ', move//9, move%9)\n",
    "                env.render()\n",
    "                print()\n",
    "        \n",
    "        total_reward += env.reward\n",
    "\n",
    "    print(f'Number of wins in {episodes} games: {total_reward}')"
   ]
  },
  {
   "cell_type": "code",
   "execution_count": 86,
   "id": "39a7285c",
   "metadata": {},
   "outputs": [
    {
     "name": "stdout",
     "output_type": "stream",
     "text": [
      "Number of wins in 100 games: 0\n"
     ]
    }
   ],
   "source": [
    "play(env = MineSweeper(9, 9, 9), agent = RandomAgent, episodes = 100)"
   ]
  },
  {
   "cell_type": "markdown",
   "id": "1574861b",
   "metadata": {},
   "source": [
    "# Neural Network Approach to Solving Minesweeper\n",
    "\n",
    "Input: Tensor state of the minesweeper board\n",
    "\n",
    "Output: Probabilities of what cells to choose/expand\n",
    "\n",
    "Loss: Crossentropy loss"
   ]
  },
  {
   "cell_type": "code",
   "execution_count": 87,
   "id": "4b618fbb",
   "metadata": {},
   "outputs": [],
   "source": [
    "from tensorflow import keras\n",
    "from tensorflow.keras import layers"
   ]
  },
  {
   "cell_type": "code",
   "execution_count": 88,
   "id": "6a67b578",
   "metadata": {},
   "outputs": [],
   "source": [
    "MINES = 9\n",
    "HEIGHT = 9\n",
    "WIDTH = 9"
   ]
  },
  {
   "cell_type": "code",
   "execution_count": 89,
   "id": "afc7001c",
   "metadata": {},
   "outputs": [],
   "source": [
    "env = MineSweeper(HEIGHT, WIDTH, MINES)\n",
    "nn_model = keras.Sequential(\n",
    "    [\n",
    "        keras.Input(shape=(HEIGHT, WIDTH, 10)),\n",
    "        layers.Conv2D(32, kernel_size=(3, 3), activation=\"relu\"),\n",
    "        layers.Conv2D(64, kernel_size=(3, 3), activation=\"relu\"),\n",
    "        layers.Flatten(),\n",
    "        layers.Dense(HEIGHT*WIDTH, activation=\"softmax\"),\n",
    "    ]\n",
    ")"
   ]
  },
  {
   "cell_type": "code",
   "execution_count": 90,
   "id": "14950e69",
   "metadata": {},
   "outputs": [
    {
     "name": "stdout",
     "output_type": "stream",
     "text": [
      "Model: \"sequential_5\"\n",
      "_________________________________________________________________\n",
      " Layer (type)                Output Shape              Param #   \n",
      "=================================================================\n",
      " conv2d_10 (Conv2D)          (None, 7, 7, 32)          2912      \n",
      "                                                                 \n",
      " conv2d_11 (Conv2D)          (None, 5, 5, 64)          18496     \n",
      "                                                                 \n",
      " flatten_5 (Flatten)         (None, 1600)              0         \n",
      "                                                                 \n",
      " dense_5 (Dense)             (None, 81)                129681    \n",
      "                                                                 \n",
      "=================================================================\n",
      "Total params: 151089 (590.19 KB)\n",
      "Trainable params: 151089 (590.19 KB)\n",
      "Non-trainable params: 0 (0.00 Byte)\n",
      "_________________________________________________________________\n"
     ]
    }
   ],
   "source": [
    "nn_model.summary()"
   ]
  },
  {
   "cell_type": "code",
   "execution_count": 109,
   "id": "3bc7b7b2",
   "metadata": {},
   "outputs": [],
   "source": [
    "# Acquire training data for network\n",
    "def get_samples(model, samples = 100):\n",
    "    x, y = [], []\n",
    "    env = MineSweeper(HEIGHT, WIDTH, MINES)\n",
    "    for game in range(samples):\n",
    "        env.reset()\n",
    "        while not env.done:\n",
    "            current_state = tf.transpose(env.get_network_state(), perm = [1, 2, 0])\n",
    "            move = RandomAgent(current_state, env.moves)\n",
    "            env.step(move)\n",
    "            # Exclude samples that fail\n",
    "            if env.done and env.reward == 0:\n",
    "                continue\n",
    "            else:\n",
    "                x.append(current_state)\n",
    "                y.append([i if i == move else 0 for i in range(HEIGHT*WIDTH)])\n",
    "            \n",
    "    return tf.convert_to_tensor(x), tf.convert_to_tensor(y)"
   ]
  },
  {
   "cell_type": "code",
   "execution_count": 110,
   "id": "9fe4b79d",
   "metadata": {},
   "outputs": [],
   "source": [
    "x_train, y_train = get_samples(nn_model, samples = 500)"
   ]
  },
  {
   "cell_type": "code",
   "execution_count": 111,
   "id": "8d1f44e4",
   "metadata": {},
   "outputs": [
    {
     "data": {
      "text/plain": [
       "(TensorShape([2071, 9, 9, 10]), TensorShape([2071, 81]))"
      ]
     },
     "execution_count": 111,
     "metadata": {},
     "output_type": "execute_result"
    }
   ],
   "source": [
    "x_train.shape, y_train.shape"
   ]
  },
  {
   "cell_type": "code",
   "execution_count": 112,
   "id": "e911b5c2",
   "metadata": {},
   "outputs": [
    {
     "name": "stdout",
     "output_type": "stream",
     "text": [
      "Epoch 1/100\n",
      "117/117 [==============================] - 2s 11ms/step - loss: 24267585536.0000 - accuracy: 0.0134 - val_loss: 21189799936.0000 - val_accuracy: 0.0096\n",
      "Epoch 2/100\n",
      "117/117 [==============================] - 1s 10ms/step - loss: 24144965632.0000 - accuracy: 0.0129 - val_loss: 20984193024.0000 - val_accuracy: 0.0337\n",
      "Epoch 3/100\n",
      "117/117 [==============================] - 1s 9ms/step - loss: 24061003776.0000 - accuracy: 0.0113 - val_loss: 20915232768.0000 - val_accuracy: 0.0048\n",
      "Epoch 4/100\n",
      "117/117 [==============================] - 1s 9ms/step - loss: 23848196096.0000 - accuracy: 0.0166 - val_loss: 20744988672.0000 - val_accuracy: 0.0337\n",
      "Epoch 5/100\n",
      "117/117 [==============================] - 1s 10ms/step - loss: 23703889920.0000 - accuracy: 0.0172 - val_loss: 20536856576.0000 - val_accuracy: 0.0096\n",
      "Epoch 6/100\n",
      "117/117 [==============================] - 1s 9ms/step - loss: 23445116928.0000 - accuracy: 0.0107 - val_loss: 20283371520.0000 - val_accuracy: 0.0144\n",
      "Epoch 7/100\n",
      "117/117 [==============================] - 1s 9ms/step - loss: 23239223296.0000 - accuracy: 0.0140 - val_loss: 20113412096.0000 - val_accuracy: 0.0337\n",
      "Epoch 8/100\n",
      "117/117 [==============================] - 1s 10ms/step - loss: 23122610176.0000 - accuracy: 0.0134 - val_loss: 20021528576.0000 - val_accuracy: 0.0144\n",
      "Epoch 9/100\n",
      "117/117 [==============================] - 1s 10ms/step - loss: 22890700800.0000 - accuracy: 0.0150 - val_loss: 19893383168.0000 - val_accuracy: 0.0337\n",
      "Epoch 10/100\n",
      "117/117 [==============================] - 1s 9ms/step - loss: 22764095488.0000 - accuracy: 0.0102 - val_loss: 19680135168.0000 - val_accuracy: 0.0192\n",
      "Epoch 11/100\n",
      "117/117 [==============================] - 1s 10ms/step - loss: 22726694912.0000 - accuracy: 0.0118 - val_loss: 19617017856.0000 - val_accuracy: 0.0192\n",
      "Epoch 12/100\n",
      "117/117 [==============================] - 1s 9ms/step - loss: 22768836608.0000 - accuracy: 0.0107 - val_loss: 19825932288.0000 - val_accuracy: 0.0337\n",
      "Epoch 13/100\n",
      "117/117 [==============================] - 1s 9ms/step - loss: 22860406784.0000 - accuracy: 0.0145 - val_loss: 19858556928.0000 - val_accuracy: 0.0192\n",
      "Epoch 14/100\n",
      "117/117 [==============================] - 1s 10ms/step - loss: 23004145664.0000 - accuracy: 0.0113 - val_loss: 19940315136.0000 - val_accuracy: 0.0144\n",
      "Epoch 15/100\n",
      "117/117 [==============================] - 1s 9ms/step - loss: 23091843072.0000 - accuracy: 0.0156 - val_loss: 20075343872.0000 - val_accuracy: 0.0192\n",
      "Epoch 16/100\n",
      "117/117 [==============================] - 1s 10ms/step - loss: 23220496384.0000 - accuracy: 0.0123 - val_loss: 20187056128.0000 - val_accuracy: 0.0192\n",
      "Epoch 17/100\n",
      "117/117 [==============================] - 1s 9ms/step - loss: 23285817344.0000 - accuracy: 0.0134 - val_loss: 20136607744.0000 - val_accuracy: 0.0192\n",
      "Epoch 18/100\n",
      "117/117 [==============================] - 1s 9ms/step - loss: 23303499776.0000 - accuracy: 0.0129 - val_loss: 20287444992.0000 - val_accuracy: 0.0192\n",
      "Epoch 19/100\n",
      "117/117 [==============================] - 1s 10ms/step - loss: 23448543232.0000 - accuracy: 0.0129 - val_loss: 20336510976.0000 - val_accuracy: 0.0240\n",
      "Epoch 20/100\n",
      "117/117 [==============================] - 1s 9ms/step - loss: 23486466048.0000 - accuracy: 0.0113 - val_loss: 20365727744.0000 - val_accuracy: 0.0096\n",
      "Epoch 21/100\n",
      "117/117 [==============================] - 1s 9ms/step - loss: 23650220032.0000 - accuracy: 0.0102 - val_loss: 20458991616.0000 - val_accuracy: 0.0192\n",
      "Epoch 22/100\n",
      "117/117 [==============================] - 1s 10ms/step - loss: 23737229312.0000 - accuracy: 0.0140 - val_loss: 20683094016.0000 - val_accuracy: 0.0192\n",
      "Epoch 23/100\n",
      "117/117 [==============================] - 1s 9ms/step - loss: 23891431424.0000 - accuracy: 0.0134 - val_loss: 20646959104.0000 - val_accuracy: 0.0000e+00\n",
      "Epoch 24/100\n",
      "117/117 [==============================] - 1s 9ms/step - loss: 23924736000.0000 - accuracy: 0.0156 - val_loss: 20733063168.0000 - val_accuracy: 0.0192\n",
      "Epoch 25/100\n",
      "117/117 [==============================] - 1s 10ms/step - loss: 24004472832.0000 - accuracy: 0.0166 - val_loss: 20844720128.0000 - val_accuracy: 0.0000e+00\n",
      "Epoch 26/100\n",
      "117/117 [==============================] - 1s 10ms/step - loss: 24126709760.0000 - accuracy: 0.0064 - val_loss: 20977227776.0000 - val_accuracy: 0.0144\n",
      "Epoch 27/100\n",
      "117/117 [==============================] - 1s 9ms/step - loss: 24335618048.0000 - accuracy: 0.0134 - val_loss: 21021315072.0000 - val_accuracy: 0.0192\n",
      "Epoch 28/100\n",
      "117/117 [==============================] - 1s 10ms/step - loss: 24418803712.0000 - accuracy: 0.0150 - val_loss: 21125742592.0000 - val_accuracy: 0.0192\n",
      "Epoch 29/100\n",
      "117/117 [==============================] - 1s 9ms/step - loss: 24529459200.0000 - accuracy: 0.0118 - val_loss: 21456752640.0000 - val_accuracy: 0.0144\n",
      "Epoch 30/100\n",
      "117/117 [==============================] - 1s 9ms/step - loss: 24794550272.0000 - accuracy: 0.0150 - val_loss: 21416869888.0000 - val_accuracy: 0.0192\n",
      "Epoch 31/100\n",
      "117/117 [==============================] - 1s 9ms/step - loss: 24748484608.0000 - accuracy: 0.0161 - val_loss: 21578790912.0000 - val_accuracy: 0.0192\n",
      "Epoch 32/100\n",
      "117/117 [==============================] - 1s 9ms/step - loss: 24973639680.0000 - accuracy: 0.0166 - val_loss: 21597136896.0000 - val_accuracy: 0.0192\n",
      "Epoch 33/100\n",
      "117/117 [==============================] - 1s 10ms/step - loss: 25045004288.0000 - accuracy: 0.0172 - val_loss: 21882603520.0000 - val_accuracy: 0.0144\n",
      "Epoch 34/100\n",
      "117/117 [==============================] - 1s 9ms/step - loss: 25250273280.0000 - accuracy: 0.0140 - val_loss: 21973547008.0000 - val_accuracy: 0.0144\n",
      "Epoch 35/100\n",
      "117/117 [==============================] - 1s 9ms/step - loss: 25429233664.0000 - accuracy: 0.0123 - val_loss: 22162944000.0000 - val_accuracy: 0.0000e+00\n",
      "Epoch 36/100\n",
      "117/117 [==============================] - 1s 10ms/step - loss: 25548173312.0000 - accuracy: 0.0129 - val_loss: 22179600384.0000 - val_accuracy: 0.0192\n",
      "Epoch 37/100\n",
      "117/117 [==============================] - 1s 9ms/step - loss: 25805553664.0000 - accuracy: 0.0129 - val_loss: 22342541312.0000 - val_accuracy: 0.0144\n",
      "Epoch 38/100\n",
      "117/117 [==============================] - 1s 9ms/step - loss: 25892390912.0000 - accuracy: 0.0134 - val_loss: 22528116736.0000 - val_accuracy: 0.0048\n",
      "Epoch 39/100\n",
      "117/117 [==============================] - 1s 9ms/step - loss: 26005940224.0000 - accuracy: 0.0140 - val_loss: 22762237952.0000 - val_accuracy: 0.0048\n",
      "Epoch 40/100\n",
      "117/117 [==============================] - 1s 9ms/step - loss: 26413473792.0000 - accuracy: 0.0123 - val_loss: 22842306560.0000 - val_accuracy: 0.0337\n",
      "Epoch 41/100\n",
      "117/117 [==============================] - 1s 9ms/step - loss: 26496690176.0000 - accuracy: 0.0134 - val_loss: 23055673344.0000 - val_accuracy: 0.0000e+00\n",
      "Epoch 42/100\n",
      "117/117 [==============================] - 1s 9ms/step - loss: 26604914688.0000 - accuracy: 0.0123 - val_loss: 23061956608.0000 - val_accuracy: 0.0096\n",
      "Epoch 43/100\n",
      "117/117 [==============================] - 1s 9ms/step - loss: 26876289024.0000 - accuracy: 0.0150 - val_loss: 23328348160.0000 - val_accuracy: 0.0192\n",
      "Epoch 44/100\n",
      "117/117 [==============================] - 1s 9ms/step - loss: 26968188928.0000 - accuracy: 0.0113 - val_loss: 23393454080.0000 - val_accuracy: 0.0048\n",
      "Epoch 45/100\n",
      "117/117 [==============================] - 1s 9ms/step - loss: 27112427520.0000 - accuracy: 0.0140 - val_loss: 23465490432.0000 - val_accuracy: 0.0048\n",
      "Epoch 46/100\n",
      "117/117 [==============================] - 1s 9ms/step - loss: 27326566400.0000 - accuracy: 0.0150 - val_loss: 23652667392.0000 - val_accuracy: 0.0337\n",
      "Epoch 47/100\n",
      "117/117 [==============================] - 1s 10ms/step - loss: 27519866880.0000 - accuracy: 0.0118 - val_loss: 23755892736.0000 - val_accuracy: 0.0096\n",
      "Epoch 48/100\n",
      "117/117 [==============================] - 1s 9ms/step - loss: 27745861632.0000 - accuracy: 0.0118 - val_loss: 24059455488.0000 - val_accuracy: 0.0192\n",
      "Epoch 49/100\n",
      "117/117 [==============================] - 1s 10ms/step - loss: 27851186176.0000 - accuracy: 0.0150 - val_loss: 24037472256.0000 - val_accuracy: 0.0337\n",
      "Epoch 50/100\n",
      "117/117 [==============================] - 1s 9ms/step - loss: 28056395776.0000 - accuracy: 0.0145 - val_loss: 24332535808.0000 - val_accuracy: 0.0192\n",
      "Epoch 51/100\n",
      "117/117 [==============================] - 1s 9ms/step - loss: 28298078208.0000 - accuracy: 0.0177 - val_loss: 24508160000.0000 - val_accuracy: 0.0481\n",
      "Epoch 52/100\n",
      "117/117 [==============================] - 1s 10ms/step - loss: 28635895808.0000 - accuracy: 0.0166 - val_loss: 24750759936.0000 - val_accuracy: 0.0481\n",
      "Epoch 53/100\n",
      "117/117 [==============================] - 1s 9ms/step - loss: 28829085696.0000 - accuracy: 0.0086 - val_loss: 24923824128.0000 - val_accuracy: 0.0000e+00\n",
      "Epoch 54/100\n",
      "117/117 [==============================] - 1s 9ms/step - loss: 29153865728.0000 - accuracy: 0.0177 - val_loss: 25279383552.0000 - val_accuracy: 0.0481\n",
      "Epoch 55/100\n",
      "117/117 [==============================] - 1s 9ms/step - loss: 29399201792.0000 - accuracy: 0.0199 - val_loss: 25516869632.0000 - val_accuracy: 0.0192\n",
      "Epoch 56/100\n",
      "117/117 [==============================] - 1s 9ms/step - loss: 29655293952.0000 - accuracy: 0.0140 - val_loss: 25754122240.0000 - val_accuracy: 0.0144\n",
      "Epoch 57/100\n",
      "117/117 [==============================] - 1s 10ms/step - loss: 29878001664.0000 - accuracy: 0.0129 - val_loss: 26023012352.0000 - val_accuracy: 0.0144\n",
      "Epoch 58/100\n",
      "117/117 [==============================] - 1s 9ms/step - loss: 30149441536.0000 - accuracy: 0.0129 - val_loss: 26380791808.0000 - val_accuracy: 0.0192\n",
      "Epoch 59/100\n",
      "117/117 [==============================] - 1s 10ms/step - loss: 30529875968.0000 - accuracy: 0.0129 - val_loss: 26675009536.0000 - val_accuracy: 0.0192\n",
      "Epoch 60/100\n",
      "117/117 [==============================] - 1s 9ms/step - loss: 30888640512.0000 - accuracy: 0.0107 - val_loss: 27061700608.0000 - val_accuracy: 0.0192\n",
      "Epoch 61/100\n",
      "117/117 [==============================] - 1s 9ms/step - loss: 31127873536.0000 - accuracy: 0.0183 - val_loss: 27330355200.0000 - val_accuracy: 0.0192\n",
      "Epoch 62/100\n",
      "117/117 [==============================] - 1s 9ms/step - loss: 31499720704.0000 - accuracy: 0.0145 - val_loss: 27619688448.0000 - val_accuracy: 0.0481\n",
      "Epoch 63/100\n",
      "117/117 [==============================] - 1s 9ms/step - loss: 31874787328.0000 - accuracy: 0.0156 - val_loss: 27953668096.0000 - val_accuracy: 0.0192\n",
      "Epoch 64/100\n",
      "117/117 [==============================] - 1s 9ms/step - loss: 32119291904.0000 - accuracy: 0.0140 - val_loss: 28242071552.0000 - val_accuracy: 0.0144\n",
      "Epoch 65/100\n",
      "117/117 [==============================] - 1s 9ms/step - loss: 32516427776.0000 - accuracy: 0.0156 - val_loss: 28700110848.0000 - val_accuracy: 0.0481\n",
      "Epoch 66/100\n",
      "117/117 [==============================] - 1s 9ms/step - loss: 32857839616.0000 - accuracy: 0.0156 - val_loss: 28808062976.0000 - val_accuracy: 0.0337\n",
      "Epoch 67/100\n",
      "117/117 [==============================] - 1s 10ms/step - loss: 33021980672.0000 - accuracy: 0.0123 - val_loss: 29237841920.0000 - val_accuracy: 0.0192\n",
      "Epoch 68/100\n",
      "117/117 [==============================] - 1s 9ms/step - loss: 33373550592.0000 - accuracy: 0.0075 - val_loss: 29569021952.0000 - val_accuracy: 0.0000e+00\n",
      "Epoch 69/100\n",
      "117/117 [==============================] - 1s 10ms/step - loss: 33768685568.0000 - accuracy: 0.0134 - val_loss: 29856368640.0000 - val_accuracy: 0.0192\n",
      "Epoch 70/100\n",
      "117/117 [==============================] - 1s 9ms/step - loss: 34083895296.0000 - accuracy: 0.0150 - val_loss: 30366713856.0000 - val_accuracy: 0.0192\n",
      "Epoch 71/100\n",
      "117/117 [==============================] - 1s 9ms/step - loss: 34324058112.0000 - accuracy: 0.0102 - val_loss: 30610329600.0000 - val_accuracy: 0.0337\n",
      "Epoch 72/100\n",
      "117/117 [==============================] - 1s 10ms/step - loss: 34906021888.0000 - accuracy: 0.0172 - val_loss: 30932412416.0000 - val_accuracy: 0.0481\n",
      "Epoch 73/100\n",
      "117/117 [==============================] - 1s 9ms/step - loss: 35145170944.0000 - accuracy: 0.0156 - val_loss: 31333720064.0000 - val_accuracy: 0.0048\n",
      "Epoch 74/100\n",
      "117/117 [==============================] - 1s 10ms/step - loss: 35499270144.0000 - accuracy: 0.0134 - val_loss: 31668768768.0000 - val_accuracy: 0.0192\n",
      "Epoch 75/100\n",
      "117/117 [==============================] - 1s 9ms/step - loss: 35869466624.0000 - accuracy: 0.0118 - val_loss: 32005795840.0000 - val_accuracy: 0.0048\n",
      "Epoch 76/100\n",
      "117/117 [==============================] - 1s 9ms/step - loss: 36223852544.0000 - accuracy: 0.0129 - val_loss: 32296515584.0000 - val_accuracy: 0.0192\n",
      "Epoch 77/100\n",
      "117/117 [==============================] - 1s 10ms/step - loss: 36686856192.0000 - accuracy: 0.0129 - val_loss: 32800524288.0000 - val_accuracy: 0.0192\n",
      "Epoch 78/100\n",
      "117/117 [==============================] - 1s 9ms/step - loss: 36959133696.0000 - accuracy: 0.0145 - val_loss: 33107881984.0000 - val_accuracy: 0.0000e+00\n",
      "Epoch 79/100\n",
      "117/117 [==============================] - 1s 10ms/step - loss: 37385203712.0000 - accuracy: 0.0129 - val_loss: 33733332992.0000 - val_accuracy: 0.0192\n",
      "Epoch 80/100\n",
      "117/117 [==============================] - 1s 9ms/step - loss: 37917323264.0000 - accuracy: 0.0129 - val_loss: 33873416192.0000 - val_accuracy: 0.0048\n",
      "Epoch 81/100\n",
      "117/117 [==============================] - 1s 10ms/step - loss: 38193958912.0000 - accuracy: 0.0161 - val_loss: 34509209600.0000 - val_accuracy: 0.0000e+00\n",
      "Epoch 82/100\n",
      "117/117 [==============================] - 1s 9ms/step - loss: 38666174464.0000 - accuracy: 0.0123 - val_loss: 34775306240.0000 - val_accuracy: 0.0192\n",
      "Epoch 83/100\n",
      "117/117 [==============================] - 1s 9ms/step - loss: 39094951936.0000 - accuracy: 0.0134 - val_loss: 35181105152.0000 - val_accuracy: 0.0240\n",
      "Epoch 84/100\n",
      "117/117 [==============================] - 1s 10ms/step - loss: 39536824320.0000 - accuracy: 0.0123 - val_loss: 35454775296.0000 - val_accuracy: 0.0096\n",
      "Epoch 85/100\n",
      "117/117 [==============================] - 1s 9ms/step - loss: 39803473920.0000 - accuracy: 0.0129 - val_loss: 36042096640.0000 - val_accuracy: 0.0481\n",
      "Epoch 86/100\n",
      "117/117 [==============================] - 1s 10ms/step - loss: 40328708096.0000 - accuracy: 0.0150 - val_loss: 36299898880.0000 - val_accuracy: 0.0048\n",
      "Epoch 87/100\n",
      "117/117 [==============================] - 1s 9ms/step - loss: 40645013504.0000 - accuracy: 0.0140 - val_loss: 36599033856.0000 - val_accuracy: 0.0144\n",
      "Epoch 88/100\n",
      "117/117 [==============================] - 1s 10ms/step - loss: 40914726912.0000 - accuracy: 0.0140 - val_loss: 37060562944.0000 - val_accuracy: 0.0192\n",
      "Epoch 89/100\n",
      "117/117 [==============================] - 1s 9ms/step - loss: 41343930368.0000 - accuracy: 0.0118 - val_loss: 37463273472.0000 - val_accuracy: 0.0192\n",
      "Epoch 90/100\n",
      "117/117 [==============================] - 1s 9ms/step - loss: 41769676800.0000 - accuracy: 0.0118 - val_loss: 37901459456.0000 - val_accuracy: 0.0000e+00\n",
      "Epoch 91/100\n",
      "117/117 [==============================] - 1s 10ms/step - loss: 42159206400.0000 - accuracy: 0.0134 - val_loss: 38203125760.0000 - val_accuracy: 0.0337\n",
      "Epoch 92/100\n",
      "117/117 [==============================] - 1s 9ms/step - loss: 42580037632.0000 - accuracy: 0.0145 - val_loss: 38601236480.0000 - val_accuracy: 0.0481\n",
      "Epoch 93/100\n",
      "117/117 [==============================] - 1s 10ms/step - loss: 42936758272.0000 - accuracy: 0.0134 - val_loss: 39099187200.0000 - val_accuracy: 0.0481\n",
      "Epoch 94/100\n",
      "117/117 [==============================] - 1s 9ms/step - loss: 43502956544.0000 - accuracy: 0.0145 - val_loss: 39612289024.0000 - val_accuracy: 0.0000e+00\n",
      "Epoch 95/100\n",
      "117/117 [==============================] - 1s 10ms/step - loss: 43885010944.0000 - accuracy: 0.0123 - val_loss: 39822573568.0000 - val_accuracy: 0.0000e+00\n",
      "Epoch 96/100\n",
      "117/117 [==============================] - 1s 10ms/step - loss: 44302614528.0000 - accuracy: 0.0156 - val_loss: 40329175040.0000 - val_accuracy: 0.0192\n",
      "Epoch 97/100\n",
      "117/117 [==============================] - 1s 10ms/step - loss: 44767457280.0000 - accuracy: 0.0225 - val_loss: 40807026688.0000 - val_accuracy: 0.0481\n",
      "Epoch 98/100\n",
      "117/117 [==============================] - 1s 9ms/step - loss: 45271920640.0000 - accuracy: 0.0107 - val_loss: 41014984704.0000 - val_accuracy: 0.0481\n",
      "Epoch 99/100\n",
      "117/117 [==============================] - 1s 9ms/step - loss: 45463879680.0000 - accuracy: 0.0129 - val_loss: 41561059328.0000 - val_accuracy: 0.0048\n",
      "Epoch 100/100\n",
      "117/117 [==============================] - 1s 10ms/step - loss: 45916823552.0000 - accuracy: 0.0113 - val_loss: 41939898368.0000 - val_accuracy: 0.0192\n"
     ]
    },
    {
     "data": {
      "text/plain": [
       "<keras.src.callbacks.History at 0x2e0953f70>"
      ]
     },
     "execution_count": 112,
     "metadata": {},
     "output_type": "execute_result"
    }
   ],
   "source": [
    "# Compile and fit model\n",
    "nn_model.compile(loss=\"categorical_crossentropy\", optimizer=\"adam\", metrics=[\"accuracy\"])\n",
    "nn_model.fit(x_train, y_train, batch_size=16, epochs=100, validation_split=0.1, verbose=1)"
   ]
  },
  {
   "cell_type": "code",
   "execution_count": 119,
   "id": "6afb4262",
   "metadata": {},
   "outputs": [
    {
     "name": "stdout",
     "output_type": "stream",
     "text": [
      "Number of wins in 100 games: 31\n",
      "Number of wins in 100 games: 31\n",
      "Number of wins in 100 games: 36\n",
      "Number of wins in 100 games: 28\n",
      "Number of wins in 100 games: 34\n",
      "Number of wins in 100 games: 35\n",
      "Number of wins in 100 games: 28\n",
      "Number of wins in 100 games: 29\n",
      "Number of wins in 100 games: 29\n",
      "Number of wins in 100 games: 33\n"
     ]
    }
   ],
   "source": [
    "for i in range(10):\n",
    "    play(env = MineSweeper(HEIGHT, WIDTH, 3), agent = neural_network, episodes = 100)"
   ]
  },
  {
   "cell_type": "code",
   "execution_count": 120,
   "id": "70ce9d78",
   "metadata": {},
   "outputs": [
    {
     "name": "stdout",
     "output_type": "stream",
     "text": [
      "Number of wins in 100 games: 26\n",
      "Number of wins in 100 games: 28\n",
      "Number of wins in 100 games: 26\n",
      "Number of wins in 100 games: 27\n",
      "Number of wins in 100 games: 24\n",
      "Number of wins in 100 games: 28\n",
      "Number of wins in 100 games: 20\n",
      "Number of wins in 100 games: 28\n",
      "Number of wins in 100 games: 22\n",
      "Number of wins in 100 games: 30\n"
     ]
    }
   ],
   "source": [
    "for i in range(10):\n",
    "    play(env = MineSweeper(HEIGHT, WIDTH, 3), agent = RandomAgent, episodes = 100)"
   ]
  },
  {
   "cell_type": "code",
   "execution_count": null,
   "id": "109a75c7",
   "metadata": {},
   "outputs": [],
   "source": []
  }
 ],
 "metadata": {
  "kernelspec": {
   "display_name": "Python 3 (ipykernel)",
   "language": "python",
   "name": "python3"
  },
  "language_info": {
   "codemirror_mode": {
    "name": "ipython",
    "version": 3
   },
   "file_extension": ".py",
   "mimetype": "text/x-python",
   "name": "python",
   "nbconvert_exporter": "python",
   "pygments_lexer": "ipython3",
   "version": "3.10.8"
  }
 },
 "nbformat": 4,
 "nbformat_minor": 5
}
